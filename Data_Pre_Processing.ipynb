{
  "nbformat": 4,
  "nbformat_minor": 0,
  "metadata": {
    "colab": {
      "name": "Data Pre-Processing.ipynb",
      "provenance": [],
      "collapsed_sections": [],
      "authorship_tag": "ABX9TyMe5NFh5+93EpAhzm0AkLqt"
    },
    "kernelspec": {
      "name": "python3",
      "display_name": "Python 3"
    },
    "language_info": {
      "name": "python"
    },
    "gpuClass": "standard"
  },
  "cells": [
    {
      "cell_type": "code",
      "execution_count": 3,
      "metadata": {
        "colab": {
          "base_uri": "https://localhost:8080/"
        },
        "id": "GS7fWhCYYrUQ",
        "outputId": "f47f1678-3951-4421-e9c0-e9d56aa064d3"
      },
      "outputs": [
        {
          "output_type": "stream",
          "name": "stdout",
          "text": [
            "Looking in indexes: https://pypi.org/simple, https://us-python.pkg.dev/colab-wheels/public/simple/\n",
            "Requirement already satisfied: PyPDF2 in /usr/local/lib/python3.7/dist-packages (2.4.0)\n",
            "Requirement already satisfied: typing-extensions in /usr/local/lib/python3.7/dist-packages (from PyPDF2) (4.1.1)\n"
          ]
        }
      ],
      "source": [
        "!pip install PyPDF2"
      ]
    },
    {
      "cell_type": "markdown",
      "source": [
        "#Working with PDF file"
      ],
      "metadata": {
        "id": "Og0PWqh_b-V_"
      }
    },
    {
      "cell_type": "code",
      "source": [
        "import PyPDF2\n",
        "data = open(\"/content/IEC_approved_proposals_2022.pdf\",\"rb\")\n",
        "reader = PyPDF2.PdfFileReader(data)\n",
        "print(reader.numPages)"
      ],
      "metadata": {
        "colab": {
          "base_uri": "https://localhost:8080/"
        },
        "id": "Pg3ZSnlYZDfz",
        "outputId": "7aa385ae-ba3d-45c2-b8d8-dc883dac9f8b"
      },
      "execution_count": 10,
      "outputs": [
        {
          "output_type": "stream",
          "name": "stdout",
          "text": [
            "2\n"
          ]
        }
      ]
    },
    {
      "cell_type": "code",
      "source": [
        "page=reader.getPage(0)"
      ],
      "metadata": {
        "id": "kVdtPBEHa5BS"
      },
      "execution_count": 11,
      "outputs": []
    },
    {
      "cell_type": "code",
      "source": [
        "print(page.extractText())\n",
        "data.close()"
      ],
      "metadata": {
        "colab": {
          "base_uri": "https://localhost:8080/"
        },
        "id": "V5Tw1PdQbBFx",
        "outputId": "c831f849-8025-41dd-e918-3848ef84cbab"
      },
      "execution_count": 12,
      "outputs": [
        {
          "output_type": "stream",
          "name": "stdout",
          "text": [
            " Institutional Ethics Committee \n",
            " –\n",
            " CHARUSAT \n",
            "Charotar University of Science and Technology, Changa \n",
            " –\n",
            " 388421 \n",
            " \n",
            "Report of Completed/Ongoing Proposals  from January to December, 2022  \n",
            "\n",
            "Sl \n",
            "\n",
            "No.\n",
            " \n",
            "Proposal ID\n",
            " \n",
            "Project Title\n",
            " \n",
            "Principal \n",
            "\n",
            "Investigator \n",
            " \n",
            "Co\n",
            "-\n",
            "\n",
            "Investigator(s)\n",
            " \n",
            "N\n",
            "ature of \n",
            "\n",
            "Proposal \n",
            " \n",
            "Status\n",
            " \n",
            "\n",
            "1 \n",
            " \n",
            "IEC/CHARUSAT/22/10\n",
            "  \n",
            "Genetic  Mutational\n",
            " \n",
            "Spectrum \n",
            "\n",
            "of  idiopathic \n",
            "infertility  in \n",
            "\n",
            "Indian men\n",
            " \n",
            "\n",
            " \n",
            "D\n",
            "r. Tapan Patel\n",
            " \n",
            "D\n",
            "ivya Narayanan\n",
            " \n",
            "\n",
            " \n",
            "PhD \n",
            "\n",
            "Proposal\n",
            " \n",
            "Ongoing\n",
            " \n",
            "\n",
            "2 \n",
            " \n",
            "IEC/CHARUSAT/\n",
            "CT/\n",
            "22/13\n",
            " \n",
            "“\n",
            "A  randomized,  multi\n",
            "-\n",
            "center, \n",
            "\n",
            "two\n",
            "-\n",
            "period,  two\n",
            "-\n",
            "treatment, \n",
            "\n",
            "two\n",
            "-\n",
            "sequence,  single  dose, \n",
            "\n",
            "crossover,  comparative \n",
            "\n",
            "bioavailability  study  of \n",
            "\n",
            "Mylan’s  Risperidone  Long\n",
            "-\n",
            " \n",
            "\n",
            "Acting Injection, 12.5 mg/vial \n",
            "\n",
            "with  Janssen’s  Risperdal \n",
            "\n",
            "Consta®,  12.5  mg/vial  in \n",
            "\n",
            "t\n",
            "wenty\n",
            "-\n",
            "four  patient\n",
            "s  with \n",
            "\n",
            "Schizophrenia  under  fasting \n",
            "\n",
            "condition\n",
            "”\n",
            " \n",
            "(\n",
            "RISP\n",
            "-\n",
            "IJD\n",
            "-\n",
            "1002).\n",
            " \n",
            "Dr. \n",
            "\n",
            "Vinodkumar \n",
            "\n",
            "Goyal\n",
            " \n",
            "-\n",
            " \n",
            "External\n",
            " \n",
            "Ongoing\n",
            " \n",
            "\n",
            "3\n",
            " \n",
            "IEC/CHARUSAT/EX/22/12\n",
            "  \n",
            "Prevalence of fe\n",
            "male and\n",
            " \n",
            "\n",
            "male infertility in Nadiad,\n",
            "  \n",
            "\n",
            "Gujarat\n",
            " \n",
            " D\n",
            "r. Tapan Patel\n",
            " \n",
            "D\n",
            "ivya Narayanan\n",
            " \n",
            "\n",
            " \n",
            "PhD \n",
            "\n",
            "Proposal\n",
            " \n",
            "Ongoing\n",
            " \n",
            "\n",
            "4\n",
            " \n",
            "IEC/CHARUSAT/22/14\n",
            "  \n",
            "Role of low dose HRCT in\n",
            "  \n",
            "\n",
            "detection of infectious and\n",
            "  \n",
            "\n",
            "interstitial lung diseases\n",
            "  \n",
            "Mrs. Dolly \n",
            "\n",
            "Sharma\n",
            " \n",
            "-\n",
            " \n",
            "PG \n",
            "\n",
            "Dissertation\n",
            " \n",
            "Ongoing\n",
            " \n"
          ]
        }
      ]
    },
    {
      "cell_type": "markdown",
      "source": [
        "#Working with Text file"
      ],
      "metadata": {
        "id": "l-IuAIWWcGEL"
      }
    },
    {
      "cell_type": "code",
      "source": [
        "text_data = open(\"/content/mydemo.txt\",\"r\")\n",
        "print(text_data.read())"
      ],
      "metadata": {
        "colab": {
          "base_uri": "https://localhost:8080/"
        },
        "id": "ykVLtBg2cLIv",
        "outputId": "a2c59668-6afc-45aa-9782-18eb75e1fcec"
      },
      "execution_count": 13,
      "outputs": [
        {
          "output_type": "stream",
          "name": "stdout",
          "text": [
            "This demo file.\n",
            "I am testing NLP read.\n"
          ]
        }
      ]
    },
    {
      "cell_type": "markdown",
      "source": [
        "#Working with CSV file"
      ],
      "metadata": {
        "id": "oXUa4ZwQdV1f"
      }
    },
    {
      "cell_type": "code",
      "source": [
        "import numpy as np\n",
        "import pandas as pd"
      ],
      "metadata": {
        "id": "cR77bGrKdZsA"
      },
      "execution_count": 14,
      "outputs": []
    },
    {
      "cell_type": "code",
      "source": [
        "data = pd.read_csv(\"/content/reddit_data.csv\")"
      ],
      "metadata": {
        "id": "QnXwTcTZdhur"
      },
      "execution_count": null,
      "outputs": []
    },
    {
      "cell_type": "code",
      "source": [
        "data.head()"
      ],
      "metadata": {
        "id": "xxepYlHmjP_o"
      },
      "execution_count": null,
      "outputs": []
    }
  ]
}